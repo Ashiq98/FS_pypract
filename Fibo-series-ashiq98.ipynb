{
 "cells": [
  {
   "cell_type": "code",
   "execution_count": 1,
   "metadata": {},
   "outputs": [
    {
     "name": "stdout",
     "output_type": "stream",
     "text": [
      "Enter a number for which u want the series :15\n",
      "0,1,1,2,3,5,8,13,21,34,55,89,144,233,377,.....\n",
      "DONE\n"
     ]
    }
   ],
   "source": [
    "n=int(input(\"Enter a number for which u want the series :\"))    \n",
    "n1=0                                                 #INTIALISE VALUES of n1 = 0 & n2 = 1\n",
    "n2=1\n",
    "                                                    #SINCE FOR LOOP DOES NOT INCLUDE THE LAST VALUE SO GIVEN n+1\n",
    "for i in range (1,n+1):                             #THE FIRST 2 ELEMENTS ARE 0 AND 1, SO JUST PRINTING THOSE VALUES\n",
    "    if (i == 1) :                                       \n",
    "        print(n1, end = ',')                        #GIVEN END =',' TO KEEP THE VALUES IN THE SAME LINE\n",
    "    elif (i == 2):\n",
    "        print(n2, end = ',')\n",
    "    else :                                          # THE THIRD NO AND THE NO THEREAFTER IS THE SUM OF THE PREVIOUS 2 NUMBER\n",
    "        n3 = n1 + n2\n",
    "        print(n3, end = ',')\n",
    "        n1=n2                                       #CODE TO SWAP THOSE NUMBER\n",
    "        n2=n3\n",
    "print(\".....\")\n",
    "print(\"DONE\")"
   ]
  },
  {
   "cell_type": "code",
   "execution_count": null,
   "metadata": {},
   "outputs": [],
   "source": []
  }
 ],
 "metadata": {
  "kernelspec": {
   "display_name": "Python 3",
   "language": "python",
   "name": "python3"
  },
  "language_info": {
   "codemirror_mode": {
    "name": "ipython",
    "version": 3
   },
   "file_extension": ".py",
   "mimetype": "text/x-python",
   "name": "python",
   "nbconvert_exporter": "python",
   "pygments_lexer": "ipython3",
   "version": "3.7.6"
  }
 },
 "nbformat": 4,
 "nbformat_minor": 4
}
